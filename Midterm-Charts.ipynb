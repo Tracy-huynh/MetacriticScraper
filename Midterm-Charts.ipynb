{
 "cells": [
  {
   "cell_type": "markdown",
   "metadata": {},
   "source": [
    "Tracy Huynh \n",
    "DA320 \n",
    "Assignment: Midterm Pt 2 - Charts "
   ]
  },
  {
   "cell_type": "code",
   "execution_count": 25,
   "metadata": {},
   "outputs": [
    {
     "name": "stdout",
     "output_type": "stream",
     "text": [
      "Using MongoDB version 5.0.13.\n"
     ]
    }
   ],
   "source": [
    "import json \n",
    "import pymongo\n",
    "import certifi\n",
    "import pandas\n",
    "\n",
    "# Retrieving MongoDB credentials \n",
    "with open('/Users/misstacyhuynh/Desktop/Fall 2022/DA320/Secretconnectionstring.json') as f:\n",
    "    data = json.load(f)\n",
    "    mongo_connection_string = data['mongodb']\n",
    "\n",
    "# Fetching the database \n",
    "client = pymongo.MongoClient(mongo_connection_string, tlsCAFile=certifi.where())\n",
    "print(f\"Using MongoDB version {client.server_info()['version']}.\")\n",
    "da320_database = client ['Movies']\n",
    "metacritic_data = da320_database['Metacritic']\n",
    "metacritic = pandas.DataFrame(metacritic_data.find())"
   ]
  },
  {
   "cell_type": "code",
   "execution_count": 26,
   "metadata": {},
   "outputs": [
    {
     "data": {
      "text/html": [
       "<div>\n",
       "<style scoped>\n",
       "    .dataframe tbody tr th:only-of-type {\n",
       "        vertical-align: middle;\n",
       "    }\n",
       "\n",
       "    .dataframe tbody tr th {\n",
       "        vertical-align: top;\n",
       "    }\n",
       "\n",
       "    .dataframe thead th {\n",
       "        text-align: right;\n",
       "    }\n",
       "</style>\n",
       "<table border=\"1\" class=\"dataframe\">\n",
       "  <thead>\n",
       "    <tr style=\"text-align: right;\">\n",
       "      <th></th>\n",
       "      <th>_id</th>\n",
       "      <th>movie_id</th>\n",
       "      <th>title</th>\n",
       "      <th>release_date</th>\n",
       "      <th>description</th>\n",
       "      <th>score</th>\n",
       "      <th>thumbnail</th>\n",
       "      <th>year</th>\n",
       "      <th>month</th>\n",
       "    </tr>\n",
       "  </thead>\n",
       "  <tbody>\n",
       "    <tr>\n",
       "      <th>0</th>\n",
       "      <td>634e392b978295ec0f511f7c</td>\n",
       "      <td>11240</td>\n",
       "      <td>Traffic</td>\n",
       "      <td>2000-12-27</td>\n",
       "      <td>Traffic evokes the high stakes and high risks ...</td>\n",
       "      <td>86</td>\n",
       "      <td>https://static.metacritic.com/images/products/...</td>\n",
       "      <td>2000</td>\n",
       "      <td>12</td>\n",
       "    </tr>\n",
       "    <tr>\n",
       "      <th>1</th>\n",
       "      <td>634e392b978295ec0f511f7e</td>\n",
       "      <td>11242</td>\n",
       "      <td>You Can Count on Me</td>\n",
       "      <td>2000-11-10</td>\n",
       "      <td>A young mother (Laura Linney) is cheating on h...</td>\n",
       "      <td>85</td>\n",
       "      <td>https://static.metacritic.com/images/products/...</td>\n",
       "      <td>2000</td>\n",
       "      <td>11</td>\n",
       "    </tr>\n",
       "    <tr>\n",
       "      <th>2</th>\n",
       "      <td>634e392b978295ec0f511f86</td>\n",
       "      <td>11250</td>\n",
       "      <td>I'm the One That I Want</td>\n",
       "      <td>2000-07-07</td>\n",
       "      <td>Set in San Francisco's Warfield Theatre, this ...</td>\n",
       "      <td>81</td>\n",
       "      <td>https://static.metacritic.com/images/products/...</td>\n",
       "      <td>2000</td>\n",
       "      <td>7</td>\n",
       "    </tr>\n",
       "    <tr>\n",
       "      <th>3</th>\n",
       "      <td>634e392b978295ec0f511f8f</td>\n",
       "      <td>11259</td>\n",
       "      <td>Into the Arms of Strangers: Stories of the Kin...</td>\n",
       "      <td>2000-09-15</td>\n",
       "      <td>In an effort to remove Jewish children from Na...</td>\n",
       "      <td>79</td>\n",
       "      <td>https://static.metacritic.com/images/products/...</td>\n",
       "      <td>2000</td>\n",
       "      <td>9</td>\n",
       "    </tr>\n",
       "    <tr>\n",
       "      <th>4</th>\n",
       "      <td>634e392b978295ec0f511f98</td>\n",
       "      <td>11268</td>\n",
       "      <td>Humanité</td>\n",
       "      <td>2000-06-16</td>\n",
       "      <td>A police detective with unusual methods invest...</td>\n",
       "      <td>77</td>\n",
       "      <td>https://static.metacritic.com/images/products/...</td>\n",
       "      <td>2000</td>\n",
       "      <td>6</td>\n",
       "    </tr>\n",
       "  </tbody>\n",
       "</table>\n",
       "</div>"
      ],
      "text/plain": [
       "                        _id movie_id  \\\n",
       "0  634e392b978295ec0f511f7c    11240   \n",
       "1  634e392b978295ec0f511f7e    11242   \n",
       "2  634e392b978295ec0f511f86    11250   \n",
       "3  634e392b978295ec0f511f8f    11259   \n",
       "4  634e392b978295ec0f511f98    11268   \n",
       "\n",
       "                                               title release_date  \\\n",
       "0                                            Traffic   2000-12-27   \n",
       "1                                You Can Count on Me   2000-11-10   \n",
       "2                            I'm the One That I Want   2000-07-07   \n",
       "3  Into the Arms of Strangers: Stories of the Kin...   2000-09-15   \n",
       "4                                           Humanité   2000-06-16   \n",
       "\n",
       "                                         description  score  \\\n",
       "0  Traffic evokes the high stakes and high risks ...     86   \n",
       "1  A young mother (Laura Linney) is cheating on h...     85   \n",
       "2  Set in San Francisco's Warfield Theatre, this ...     81   \n",
       "3  In an effort to remove Jewish children from Na...     79   \n",
       "4  A police detective with unusual methods invest...     77   \n",
       "\n",
       "                                           thumbnail  year  month  \n",
       "0  https://static.metacritic.com/images/products/...  2000     12  \n",
       "1  https://static.metacritic.com/images/products/...  2000     11  \n",
       "2  https://static.metacritic.com/images/products/...  2000      7  \n",
       "3  https://static.metacritic.com/images/products/...  2000      9  \n",
       "4  https://static.metacritic.com/images/products/...  2000      6  "
      ]
     },
     "execution_count": 26,
     "metadata": {},
     "output_type": "execute_result"
    }
   ],
   "source": [
    "# Converting the data into dates and gather year/month\n",
    "metacritic.release_date = pandas.to_datetime(metacritic.release_date)\n",
    "metacritic['year'] = metacritic.release_date.dt.year\n",
    "metacritic['month'] = metacritic.release_date.dt.month\n",
    "metacritic.score = pandas.to_numeric(metacritic.score)\n",
    "\n",
    "metacritic.head()"
   ]
  },
  {
   "cell_type": "code",
   "execution_count": 27,
   "metadata": {},
   "outputs": [
    {
     "data": {
      "image/png": "[encoded data removed]",
      "text/plain": [
       "<Figure size 640x480 with 1 Axes>"
      ]
     },
     "metadata": {},
     "output_type": "display_data"
    }
   ],
   "source": [
    "# Charting Movies containing Keywords \n",
    "# Credits to Professor Ted Spence\n",
    "\n",
    "# Importing libraries needed for charting \n",
    "from matplotlib import pyplot\n",
    "from matplotlib.ticker import FormatStrFormatter\n",
    "import numpy\n",
    "\n",
    "# Charting for keywords 'Horror' and 'Comedy' \n",
    "scores_horror = metacritic[metacritic['description'].str.contains(\"horror\")].score\n",
    "scores_comedy = metacritic[metacritic['description'].str.contains(\"comedy\")].score\n",
    "\n",
    "bins = numpy.linspace(0, 100, 10)\n",
    "pyplot.hist(scores_horror, bins, alpha=0.5, label='Movies containing Horror')\n",
    "pyplot.hist(scores_comedy, bins, alpha=0.5, label='Movies containing Comedy')\n",
    "pyplot.legend(loc='upper right')\n",
    "pyplot.show()"
   ]
  },
  {
   "cell_type": "markdown",
   "metadata": {},
   "source": [
    "The data and graph above shows that movies with the descriptions containing the keyword 'Comedy' had a more normal distribution with minimum outliers. The movies with 'Horror' in their description had a slightly skewed distribution but also was much more flat between scores of 20 and 80. Also, minimum outliers on this data. "
   ]
  }
 ],
 "metadata": {
  "kernelspec": {
   "display_name": "Python 3.10.7 64-bit",
   "language": "python",
   "name": "python3"
  },
  "language_info": {
   "codemirror_mode": {
    "name": "ipython",
    "version": 3
   },
   "file_extension": ".py",
   "mimetype": "text/x-python",
   "name": "python",
   "nbconvert_exporter": "python",
   "pygments_lexer": "ipython3",
   "version": "3.10.7"
  },
  "orig_nbformat": 4,
  "vscode": {
   "interpreter": {
    "hash": "aee8b7b246df8f9039afb4144a1f6fd8d2ca17a180786b69acc140d282b71a49"
   }
  }
 },
 "nbformat": 4,
 "nbformat_minor": 2
}
